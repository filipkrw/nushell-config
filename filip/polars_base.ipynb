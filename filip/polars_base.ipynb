{
  "cells": [
    {
      "cell_type": "code",
      "execution_count": null,
      "metadata": {},
      "outputs": [],
      "source": [
        "import polars as pl\n",
        "pl.Config.set_tbl_rows(25)\n",
        "\n",
        "df = pl.DataFrame(\n",
        "    {\n",
        "        \"a\": [1, 2, 3, 4, 5, 6, 7, 8, 9],\n",
        "        \"b\": [9, 8, 7, 6, 5, 4, 3, 2, 1],\n",
        "        \"c\": [1, 2, 3, 4, 5, 6, 7, 8, 9],\n",
        "    }\n",
        ")\n",
        "\n",
        "print(df)"
      ]
    }
  ],
  "metadata": {
    "kernelspec": {
      "display_name": ".venv",
      "language": "python",
      "name": "python3"
    },
    "language_info": {
      "codemirror_mode": {
        "name": "ipython",
        "version": 3
      },
      "file_extension": ".py",
      "mimetype": "text/x-python",
      "name": "python",
      "nbconvert_exporter": "python",
      "pygments_lexer": "ipython3",
      "version": "3.12.9"
    }
  },
  "nbformat": 4,
  "nbformat_minor": 2
}
